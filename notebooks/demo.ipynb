{
 "cells": [
  {
   "cell_type": "code",
   "execution_count": null,
   "metadata": {},
   "outputs": [],
   "source": [
    "import pprint\n",
    "import random"
   ]
  },
  {
   "cell_type": "code",
   "execution_count": null,
   "metadata": {},
   "outputs": [],
   "source": [
    "from llmdataparser import ParserRegistry\n",
    "ParserRegistry.list_parsers()"
   ]
  },
  {
   "cell_type": "code",
   "execution_count": null,
   "metadata": {},
   "outputs": [],
   "source": [
    "mmlu_parser = ParserRegistry.get_parser('mmlu')\n",
    "mmlu_parser.load()"
   ]
  },
  {
   "cell_type": "code",
   "execution_count": null,
   "metadata": {},
   "outputs": [],
   "source": [
    "mmlu_parser.parse(split_names=['dev', 'test'])\n",
    "parsed_data = mmlu_parser.get_parsed_data"
   ]
  },
  {
   "cell_type": "code",
   "execution_count": null,
   "metadata": {},
   "outputs": [],
   "source": [
    "index = random.randint(0, len(parsed_data))\n",
    "print(f\"Question: \\n-------------------\\n {parsed_data[index].prompt}\")\n",
    "print(\"-------------------\")\n",
    "print(f\"Answer: \\n-------------------\\n{parsed_data[index].answer_letter}\")"
   ]
  }
 ],
 "metadata": {
  "kernelspec": {
   "display_name": "llmdata",
   "language": "python",
   "name": "python3"
  },
  "language_info": {
   "codemirror_mode": {
    "name": "ipython",
    "version": 3
   },
   "file_extension": ".py",
   "mimetype": "text/x-python",
   "name": "python",
   "nbconvert_exporter": "python",
   "pygments_lexer": "ipython3",
   "version": "3.12.7"
  }
 },
 "nbformat": 4,
 "nbformat_minor": 2
}
